{
 "cells": [
  {
   "cell_type": "markdown",
   "id": "181a73d4-0912-454e-8b4d-ba003eff1a12",
   "metadata": {
    "tags": []
   },
   "source": [
    "## Ridge regression using the ridge sklearn model and sklearn cross-validation"
   ]
  },
  {
   "cell_type": "code",
   "execution_count": 129,
   "id": "0937bd60-18c4-4789-b2c4-530863e833c1",
   "metadata": {},
   "outputs": [],
   "source": [
    "import numpy as np\n",
    "import pandas as pd\n",
    "import matplotlib.pyplot as plt \n",
    "from sklearn.model_selection import train_test_split\n",
    "from sklearn.metrics import mean_absolute_error, r2_score\n",
    "from sklearn.model_selection import RepeatedKFold\n",
    "from sklearn.linear_model import RidgeCV"
   ]
  },
  {
   "cell_type": "code",
   "execution_count": 130,
   "id": "f26e0ef4-9f4a-421c-b4b6-b1a4f7f62eba",
   "metadata": {},
   "outputs": [],
   "source": [
    "dataset = pd.read_csv(\"body_fat_data.csv\", index_col=0)"
   ]
  },
  {
   "cell_type": "markdown",
   "id": "5b4f41d8-4567-42e1-818d-f0a9614dec19",
   "metadata": {},
   "source": [
    "### Features and their prefix equivalent, used for plotting graphs"
   ]
  },
  {
   "cell_type": "code",
   "execution_count": 131,
   "id": "91de92c3-0c49-4227-acb5-129fc2f10ee5",
   "metadata": {},
   "outputs": [],
   "source": [
    "features = ['Neck circumference (cm)','Chest circumference (cm)','Abdomen circumference (cm)', 'Hip circumference (cm)',\n",
    "        'Thigh circumference (cm)', 'Knee circumference (cm)', 'Ankle circumference (cm)',\n",
    "        'Extended biceps circumference (cm)', 'Forearm circumference (cm)', \n",
    "            'Wrist circumference (cm)','Age', 'Weight (lbs)',\n",
    "            'Height (inches)']\n",
    "features_short = ['Neck','Chest','Abdomen', 'Hip',\n",
    "        'Thigh', 'Knee', 'Ankle ',\n",
    "        'Extended biceps', 'Forearm', \n",
    "            'Wrist', 'Age', 'Weight (lbs)',\n",
    "            'Height (inches)']\n",
    "target = 'Percent body fat using Siri equation 495/Density'"
   ]
  },
  {
   "cell_type": "code",
   "execution_count": 132,
   "id": "240c84c7-07dd-496a-a227-a2f18efff119",
   "metadata": {},
   "outputs": [],
   "source": [
    "def to_std(data, mean, std):\n",
    "    \n",
    "    return (data - mean) / std"
   ]
  },
  {
   "cell_type": "code",
   "execution_count": 133,
   "id": "ff1a455c-3759-4f04-a5d2-330053e19c0f",
   "metadata": {},
   "outputs": [
    {
     "data": {
      "text/html": [
       "<div>\n",
       "<style scoped>\n",
       "    .dataframe tbody tr th:only-of-type {\n",
       "        vertical-align: middle;\n",
       "    }\n",
       "\n",
       "    .dataframe tbody tr th {\n",
       "        vertical-align: top;\n",
       "    }\n",
       "\n",
       "    .dataframe thead th {\n",
       "        text-align: right;\n",
       "    }\n",
       "</style>\n",
       "<table border=\"1\" class=\"dataframe\">\n",
       "  <thead>\n",
       "    <tr style=\"text-align: right;\">\n",
       "      <th></th>\n",
       "      <th>Percent body fat using Siri equation 495/Density</th>\n",
       "      <th>Density gm/cm^3</th>\n",
       "      <th>Age</th>\n",
       "      <th>Weight (lbs)</th>\n",
       "      <th>Height (inches)</th>\n",
       "      <th>Adiposity index = Weight/Height^2 (kg/m^2)</th>\n",
       "      <th>Fat Free Weight (1 - fraction of body fat) * Weight, using Brozek formula (lbs)</th>\n",
       "      <th>Neck circumference (cm)</th>\n",
       "      <th>Chest circumference (cm)</th>\n",
       "      <th>Abdomen circumference (cm)</th>\n",
       "      <th>Hip circumference (cm)</th>\n",
       "      <th>Thigh circumference (cm)</th>\n",
       "      <th>Knee circumference (cm)</th>\n",
       "      <th>Ankle circumference (cm)</th>\n",
       "      <th>Extended biceps circumference (cm)</th>\n",
       "      <th>Forearm circumference (cm)</th>\n",
       "      <th>Wrist circumference (cm)</th>\n",
       "    </tr>\n",
       "  </thead>\n",
       "  <tbody>\n",
       "    <tr>\n",
       "      <th>count</th>\n",
       "      <td>168.000000</td>\n",
       "      <td>168.000000</td>\n",
       "      <td>168.000000</td>\n",
       "      <td>168.000000</td>\n",
       "      <td>168.000000</td>\n",
       "      <td>168.000000</td>\n",
       "      <td>168.000000</td>\n",
       "      <td>168.000000</td>\n",
       "      <td>168.000000</td>\n",
       "      <td>168.000000</td>\n",
       "      <td>168.000000</td>\n",
       "      <td>168.000000</td>\n",
       "      <td>168.000000</td>\n",
       "      <td>168.000000</td>\n",
       "      <td>168.000000</td>\n",
       "      <td>168.000000</td>\n",
       "      <td>168.000000</td>\n",
       "    </tr>\n",
       "    <tr>\n",
       "      <th>mean</th>\n",
       "      <td>18.994048</td>\n",
       "      <td>1.055817</td>\n",
       "      <td>44.720238</td>\n",
       "      <td>177.323214</td>\n",
       "      <td>70.053571</td>\n",
       "      <td>25.231548</td>\n",
       "      <td>142.989881</td>\n",
       "      <td>37.961310</td>\n",
       "      <td>100.194643</td>\n",
       "      <td>91.944048</td>\n",
       "      <td>99.618452</td>\n",
       "      <td>59.279167</td>\n",
       "      <td>38.470833</td>\n",
       "      <td>23.057143</td>\n",
       "      <td>32.196429</td>\n",
       "      <td>28.656548</td>\n",
       "      <td>18.173214</td>\n",
       "    </tr>\n",
       "    <tr>\n",
       "      <th>std</th>\n",
       "      <td>8.098242</td>\n",
       "      <td>0.018204</td>\n",
       "      <td>12.691610</td>\n",
       "      <td>25.441979</td>\n",
       "      <td>4.061756</td>\n",
       "      <td>3.133652</td>\n",
       "      <td>16.745333</td>\n",
       "      <td>2.192801</td>\n",
       "      <td>7.666736</td>\n",
       "      <td>9.747560</td>\n",
       "      <td>6.176463</td>\n",
       "      <td>4.688064</td>\n",
       "      <td>2.275102</td>\n",
       "      <td>1.508323</td>\n",
       "      <td>2.767409</td>\n",
       "      <td>1.948365</td>\n",
       "      <td>0.810668</td>\n",
       "    </tr>\n",
       "    <tr>\n",
       "      <th>min</th>\n",
       "      <td>3.000000</td>\n",
       "      <td>0.995000</td>\n",
       "      <td>22.000000</td>\n",
       "      <td>127.500000</td>\n",
       "      <td>29.500000</td>\n",
       "      <td>19.700000</td>\n",
       "      <td>105.900000</td>\n",
       "      <td>31.100000</td>\n",
       "      <td>83.400000</td>\n",
       "      <td>70.400000</td>\n",
       "      <td>85.300000</td>\n",
       "      <td>49.300000</td>\n",
       "      <td>33.400000</td>\n",
       "      <td>20.100000</td>\n",
       "      <td>25.600000</td>\n",
       "      <td>21.000000</td>\n",
       "      <td>16.300000</td>\n",
       "    </tr>\n",
       "    <tr>\n",
       "      <th>25%</th>\n",
       "      <td>12.175000</td>\n",
       "      <td>1.041550</td>\n",
       "      <td>35.000000</td>\n",
       "      <td>159.000000</td>\n",
       "      <td>68.250000</td>\n",
       "      <td>23.100000</td>\n",
       "      <td>130.650000</td>\n",
       "      <td>36.400000</td>\n",
       "      <td>93.825000</td>\n",
       "      <td>84.250000</td>\n",
       "      <td>95.575000</td>\n",
       "      <td>56.075000</td>\n",
       "      <td>36.900000</td>\n",
       "      <td>22.075000</td>\n",
       "      <td>30.200000</td>\n",
       "      <td>27.300000</td>\n",
       "      <td>17.600000</td>\n",
       "    </tr>\n",
       "    <tr>\n",
       "      <th>50%</th>\n",
       "      <td>19.200000</td>\n",
       "      <td>1.054900</td>\n",
       "      <td>43.000000</td>\n",
       "      <td>174.125000</td>\n",
       "      <td>70.000000</td>\n",
       "      <td>24.800000</td>\n",
       "      <td>141.850000</td>\n",
       "      <td>37.900000</td>\n",
       "      <td>99.550000</td>\n",
       "      <td>90.800000</td>\n",
       "      <td>99.150000</td>\n",
       "      <td>58.900000</td>\n",
       "      <td>38.300000</td>\n",
       "      <td>22.700000</td>\n",
       "      <td>31.950000</td>\n",
       "      <td>28.600000</td>\n",
       "      <td>18.250000</td>\n",
       "    </tr>\n",
       "    <tr>\n",
       "      <th>75%</th>\n",
       "      <td>25.225000</td>\n",
       "      <td>1.071000</td>\n",
       "      <td>54.000000</td>\n",
       "      <td>195.250000</td>\n",
       "      <td>72.250000</td>\n",
       "      <td>26.975000</td>\n",
       "      <td>154.650000</td>\n",
       "      <td>39.325000</td>\n",
       "      <td>104.750000</td>\n",
       "      <td>98.875000</td>\n",
       "      <td>103.125000</td>\n",
       "      <td>62.200000</td>\n",
       "      <td>39.725000</td>\n",
       "      <td>23.800000</td>\n",
       "      <td>34.300000</td>\n",
       "      <td>30.000000</td>\n",
       "      <td>18.800000</td>\n",
       "    </tr>\n",
       "    <tr>\n",
       "      <th>max</th>\n",
       "      <td>47.500000</td>\n",
       "      <td>1.092600</td>\n",
       "      <td>72.000000</td>\n",
       "      <td>244.250000</td>\n",
       "      <td>77.500000</td>\n",
       "      <td>37.600000</td>\n",
       "      <td>195.100000</td>\n",
       "      <td>43.900000</td>\n",
       "      <td>121.600000</td>\n",
       "      <td>122.100000</td>\n",
       "      <td>115.500000</td>\n",
       "      <td>72.900000</td>\n",
       "      <td>46.000000</td>\n",
       "      <td>33.900000</td>\n",
       "      <td>38.500000</td>\n",
       "      <td>34.900000</td>\n",
       "      <td>20.200000</td>\n",
       "    </tr>\n",
       "  </tbody>\n",
       "</table>\n",
       "</div>"
      ],
      "text/plain": [
       "       Percent body fat using Siri equation 495/Density  Density gm/cm^3  \\\n",
       "count                                        168.000000       168.000000   \n",
       "mean                                          18.994048         1.055817   \n",
       "std                                            8.098242         0.018204   \n",
       "min                                            3.000000         0.995000   \n",
       "25%                                           12.175000         1.041550   \n",
       "50%                                           19.200000         1.054900   \n",
       "75%                                           25.225000         1.071000   \n",
       "max                                           47.500000         1.092600   \n",
       "\n",
       "              Age  Weight (lbs)  Height (inches)  \\\n",
       "count  168.000000    168.000000       168.000000   \n",
       "mean    44.720238    177.323214        70.053571   \n",
       "std     12.691610     25.441979         4.061756   \n",
       "min     22.000000    127.500000        29.500000   \n",
       "25%     35.000000    159.000000        68.250000   \n",
       "50%     43.000000    174.125000        70.000000   \n",
       "75%     54.000000    195.250000        72.250000   \n",
       "max     72.000000    244.250000        77.500000   \n",
       "\n",
       "       Adiposity index = Weight/Height^2 (kg/m^2)  \\\n",
       "count                                  168.000000   \n",
       "mean                                    25.231548   \n",
       "std                                      3.133652   \n",
       "min                                     19.700000   \n",
       "25%                                     23.100000   \n",
       "50%                                     24.800000   \n",
       "75%                                     26.975000   \n",
       "max                                     37.600000   \n",
       "\n",
       "       Fat Free Weight (1 - fraction of body fat) * Weight, using Brozek formula (lbs)  \\\n",
       "count                                         168.000000                                 \n",
       "mean                                          142.989881                                 \n",
       "std                                            16.745333                                 \n",
       "min                                           105.900000                                 \n",
       "25%                                           130.650000                                 \n",
       "50%                                           141.850000                                 \n",
       "75%                                           154.650000                                 \n",
       "max                                           195.100000                                 \n",
       "\n",
       "       Neck circumference (cm)  Chest circumference (cm)  \\\n",
       "count               168.000000                168.000000   \n",
       "mean                 37.961310                100.194643   \n",
       "std                   2.192801                  7.666736   \n",
       "min                  31.100000                 83.400000   \n",
       "25%                  36.400000                 93.825000   \n",
       "50%                  37.900000                 99.550000   \n",
       "75%                  39.325000                104.750000   \n",
       "max                  43.900000                121.600000   \n",
       "\n",
       "       Abdomen circumference (cm)  Hip circumference (cm)  \\\n",
       "count                  168.000000              168.000000   \n",
       "mean                    91.944048               99.618452   \n",
       "std                      9.747560                6.176463   \n",
       "min                     70.400000               85.300000   \n",
       "25%                     84.250000               95.575000   \n",
       "50%                     90.800000               99.150000   \n",
       "75%                     98.875000              103.125000   \n",
       "max                    122.100000              115.500000   \n",
       "\n",
       "       Thigh circumference (cm)  Knee circumference (cm)  \\\n",
       "count                168.000000               168.000000   \n",
       "mean                  59.279167                38.470833   \n",
       "std                    4.688064                 2.275102   \n",
       "min                   49.300000                33.400000   \n",
       "25%                   56.075000                36.900000   \n",
       "50%                   58.900000                38.300000   \n",
       "75%                   62.200000                39.725000   \n",
       "max                   72.900000                46.000000   \n",
       "\n",
       "       Ankle circumference (cm)  Extended biceps circumference (cm)  \\\n",
       "count                168.000000                          168.000000   \n",
       "mean                  23.057143                           32.196429   \n",
       "std                    1.508323                            2.767409   \n",
       "min                   20.100000                           25.600000   \n",
       "25%                   22.075000                           30.200000   \n",
       "50%                   22.700000                           31.950000   \n",
       "75%                   23.800000                           34.300000   \n",
       "max                   33.900000                           38.500000   \n",
       "\n",
       "       Forearm circumference (cm)  Wrist circumference (cm)  \n",
       "count                  168.000000                168.000000  \n",
       "mean                    28.656548                 18.173214  \n",
       "std                      1.948365                  0.810668  \n",
       "min                     21.000000                 16.300000  \n",
       "25%                     27.300000                 17.600000  \n",
       "50%                     28.600000                 18.250000  \n",
       "75%                     30.000000                 18.800000  \n",
       "max                     34.900000                 20.200000  "
      ]
     },
     "execution_count": 133,
     "metadata": {},
     "output_type": "execute_result"
    }
   ],
   "source": [
    "train, test = train_test_split(dataset, test_size=0.33, random_state=1)\n",
    "\n",
    "train.describe()"
   ]
  },
  {
   "cell_type": "markdown",
   "id": "c53aceb6-316a-434b-850d-5995b43c9a03",
   "metadata": {},
   "source": [
    "### Data preprocessing, splitting into  train and eval, then standardizing"
   ]
  },
  {
   "cell_type": "code",
   "execution_count": 134,
   "id": "94e5f0b7-9354-49dd-8d83-4cc6728c7c6e",
   "metadata": {},
   "outputs": [],
   "source": [
    "train_x = train[features].copy()\n",
    "train_y = train[[target]].copy()\n",
    "\n",
    "test_x = test[features].copy()\n",
    "test_y = test[[target]].copy()\n",
    "\n",
    "\n",
    "mean = train_x.mean()\n",
    "std = train_x.std()\n",
    "\n",
    "test_x = to_std(test_x, mean, std)\n",
    "train_x = to_std(train_x, mean, std)\n"
   ]
  },
  {
   "cell_type": "markdown",
   "id": "d2eea42c-10a0-4ae8-ab06-a670a5dac982",
   "metadata": {},
   "source": [
    "### Cross-validation of $\\lambda$"
   ]
  },
  {
   "cell_type": "code",
   "execution_count": 135,
   "id": "572573aa-78a3-4640-ba22-219c6e6965b7",
   "metadata": {},
   "outputs": [
    {
     "name": "stdout",
     "output_type": "stream",
     "text": [
      "alpha: 0.500000\n"
     ]
    }
   ],
   "source": [
    "lmbdas = [i/2 for i in range(1,51)]\n",
    "cv = RepeatedKFold(n_splits=10, n_repeats=1, random_state=1)\n",
    "ridge = RidgeCV(alphas=lmbdas, cv=cv, scoring='neg_mean_squared_error')\n",
    "# fit model\n",
    "ridge.fit(train_x, train_y)\n",
    "print('alpha: %f' % ridge.alpha_)\n"
   ]
  },
  {
   "cell_type": "code",
   "execution_count": 136,
   "id": "52b0975c-13ea-45b5-968c-1bcb946f0cf8",
   "metadata": {},
   "outputs": [
    {
     "data": {
      "text/html": [
       "<div>\n",
       "<style scoped>\n",
       "    .dataframe tbody tr th:only-of-type {\n",
       "        vertical-align: middle;\n",
       "    }\n",
       "\n",
       "    .dataframe tbody tr th {\n",
       "        vertical-align: top;\n",
       "    }\n",
       "\n",
       "    .dataframe thead th {\n",
       "        text-align: right;\n",
       "    }\n",
       "</style>\n",
       "<table border=\"1\" class=\"dataframe\">\n",
       "  <thead>\n",
       "    <tr style=\"text-align: right;\">\n",
       "      <th></th>\n",
       "      <th>0</th>\n",
       "    </tr>\n",
       "  </thead>\n",
       "  <tbody>\n",
       "    <tr>\n",
       "      <th>Neck circumference (cm)</th>\n",
       "      <td>-0.820126</td>\n",
       "    </tr>\n",
       "    <tr>\n",
       "      <th>Chest circumference (cm)</th>\n",
       "      <td>-0.014691</td>\n",
       "    </tr>\n",
       "    <tr>\n",
       "      <th>Abdomen circumference (cm)</th>\n",
       "      <td>8.283604</td>\n",
       "    </tr>\n",
       "    <tr>\n",
       "      <th>Hip circumference (cm)</th>\n",
       "      <td>-0.682735</td>\n",
       "    </tr>\n",
       "    <tr>\n",
       "      <th>Thigh circumference (cm)</th>\n",
       "      <td>1.454499</td>\n",
       "    </tr>\n",
       "    <tr>\n",
       "      <th>Knee circumference (cm)</th>\n",
       "      <td>-0.688344</td>\n",
       "    </tr>\n",
       "    <tr>\n",
       "      <th>Ankle circumference (cm)</th>\n",
       "      <td>-0.107045</td>\n",
       "    </tr>\n",
       "    <tr>\n",
       "      <th>Extended biceps circumference (cm)</th>\n",
       "      <td>0.316835</td>\n",
       "    </tr>\n",
       "    <tr>\n",
       "      <th>Forearm circumference (cm)</th>\n",
       "      <td>0.422947</td>\n",
       "    </tr>\n",
       "    <tr>\n",
       "      <th>Wrist circumference (cm)</th>\n",
       "      <td>-1.210073</td>\n",
       "    </tr>\n",
       "    <tr>\n",
       "      <th>Age</th>\n",
       "      <td>0.539496</td>\n",
       "    </tr>\n",
       "    <tr>\n",
       "      <th>Weight (lbs)</th>\n",
       "      <td>-1.235776</td>\n",
       "    </tr>\n",
       "    <tr>\n",
       "      <th>Height (inches)</th>\n",
       "      <td>-0.464441</td>\n",
       "    </tr>\n",
       "  </tbody>\n",
       "</table>\n",
       "</div>"
      ],
      "text/plain": [
       "                                           0\n",
       "Neck circumference (cm)            -0.820126\n",
       "Chest circumference (cm)           -0.014691\n",
       "Abdomen circumference (cm)          8.283604\n",
       "Hip circumference (cm)             -0.682735\n",
       "Thigh circumference (cm)            1.454499\n",
       "Knee circumference (cm)            -0.688344\n",
       "Ankle circumference (cm)           -0.107045\n",
       "Extended biceps circumference (cm)  0.316835\n",
       "Forearm circumference (cm)          0.422947\n",
       "Wrist circumference (cm)           -1.210073\n",
       "Age                                 0.539496\n",
       "Weight (lbs)                       -1.235776\n",
       "Height (inches)                    -0.464441"
      ]
     },
     "execution_count": 136,
     "metadata": {},
     "output_type": "execute_result"
    }
   ],
   "source": [
    "coef = pd.DataFrame(ridge.coef_.reshape(13,1), index=ridge.feature_names_in_)\n",
    "\n",
    "coef"
   ]
  },
  {
   "cell_type": "markdown",
   "id": "a65153ed-e23e-4f87-aae5-0c58c0cade95",
   "metadata": {},
   "source": [
    "### Coefficients plot"
   ]
  },
  {
   "cell_type": "code",
   "execution_count": 137,
   "id": "ad307afd-eb1d-4ca8-aaf6-3cd7e8e24926",
   "metadata": {},
   "outputs": [
    {
     "data": {
      "text/plain": [
       "<AxesSubplot:>"
      ]
     },
     "execution_count": 137,
     "metadata": {},
     "output_type": "execute_result"
    },
    {
     "data": {
      "image/png": "[encoded data removed]",
      "text/plain": [
       "<Figure size 640x480 with 1 Axes>"
      ]
     },
     "metadata": {},
     "output_type": "display_data"
    }
   ],
   "source": [
    "ridge.coef_\n",
    "\n",
    "coefs = pd.DataFrame(ridge.coef_.T, index= features_short)\n",
    "\n",
    "coefs.plot.bar()"
   ]
  },
  {
   "cell_type": "markdown",
   "id": "af334aa1-7074-4e70-9a04-ba0f4bf313f6",
   "metadata": {},
   "source": [
    "### Compute prediction loss, using mean absolute error"
   ]
  },
  {
   "cell_type": "code",
   "execution_count": 138,
   "id": "9130197f-007d-43c6-9240-f869e3268001",
   "metadata": {},
   "outputs": [
    {
     "data": {
      "text/plain": [
       "3.5058283414082467"
      ]
     },
     "execution_count": 138,
     "metadata": {},
     "output_type": "execute_result"
    }
   ],
   "source": [
    "pred= ridge.predict(test_x)\n",
    "\n",
    "mse = mean_absolute_error(test_y, pred)\n",
    "\n",
    "mse"
   ]
  },
  {
   "cell_type": "markdown",
   "id": "71e1a5ce-e10b-49f2-a0ca-6647bb832557",
   "metadata": {},
   "source": [
    "### Print the first five errors"
   ]
  },
  {
   "cell_type": "code",
   "execution_count": 143,
   "id": "a30dd4e0-6134-45d7-bee1-4fb249bf74a5",
   "metadata": {},
   "outputs": [
    {
     "name": "stdout",
     "output_type": "stream",
     "text": [
      "Expected: 31.9 Actual: 26.098658112119956  sample index: 1\n",
      "Expected: 17.4 Actual: 9.867943237611659  sample index: 14\n",
      "Expected: 27.9 Actual: 20.143731310398554  sample index: 24\n",
      "Expected: 33.6 Actual: 25.319057013237973  sample index: 26\n",
      "Expected: 26.6 Actual: 17.557009510845663  sample index: 51\n"
     ]
    },
    {
     "data": {
      "text/plain": [
       "5"
      ]
     },
     "execution_count": 143,
     "metadata": {},
     "output_type": "execute_result"
    }
   ],
   "source": [
    "pred = ridge.predict(test_x)\n",
    "dif = 5\n",
    "cnt = 0\n",
    "for i,val in enumerate(pred):\n",
    "    if (test_y.iloc[i].values[0] - val[0] > dif and  cnt < 5):\n",
    "        cnt+=1\n",
    "        print(\"Expected: \" + str(test_y.iloc[i].values[0]) + \" Actual: \" + str(val[0]) + \"  sample index: \" + str(i))"
   ]
  },
  {
   "cell_type": "markdown",
   "id": "68780aa8-6ef0-41b6-bd4d-41dc93bd57d1",
   "metadata": {},
   "source": [
    "### Model performance  "
   ]
  },
  {
   "cell_type": "code",
   "execution_count": 140,
   "id": "b132a32d-b65c-48a4-9a03-39c04ba30bb2",
   "metadata": {},
   "outputs": [
    {
     "data": {
      "text/plain": [
       "<matplotlib.collections.PathCollection at 0x7fccb2cf2f50>"
      ]
     },
     "execution_count": 140,
     "metadata": {},
     "output_type": "execute_result"
    },
    {
     "data": {
      "image/png": "[encoded data removed]",
      "text/plain": [
       "<Figure size 640x480 with 1 Axes>"
      ]
     },
     "metadata": {},
     "output_type": "display_data"
    }
   ],
   "source": [
    "f, ax = plt.subplots(1)\n",
    "ax.axline((1, 1), slope=1, c = 'red', label='slope where loss = 0')\n",
    "plt.legend()\n",
    "plt.scatter(test_y, pred)"
   ]
  }
 ],
 "metadata": {
  "kernelspec": {
   "display_name": "Python 3",
   "language": "python",
   "name": "python3"
  },
  "language_info": {
   "codemirror_mode": {
    "name": "ipython",
    "version": 3
   },
   "file_extension": ".py",
   "mimetype": "text/x-python",
   "name": "python",
   "nbconvert_exporter": "python",
   "pygments_lexer": "ipython3",
   "version": "3.10.4"
  }
 },
 "nbformat": 4,
 "nbformat_minor": 5
}
