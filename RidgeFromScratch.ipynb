{
 "cells": [
  {
   "cell_type": "markdown",
   "id": "31ca1270-fc8d-410d-a886-7de1edd018a0",
   "metadata": {},
   "source": [
    "## Ridge regression implementation, with cross-validation"
   ]
  },
  {
   "cell_type": "code",
   "execution_count": 263,
   "id": "4f01afb6-e3b5-439c-967a-b3f548f4891c",
   "metadata": {},
   "outputs": [],
   "source": [
    "import numpy as np\n",
    "import pandas as pd\n",
    "import matplotlib.pyplot as plt \n",
    "from sklearn.model_selection import train_test_split\n",
    "from sklearn.metrics import mean_absolute_error, r2_score, mean_squared_error\n",
    "import seaborn as sns"
   ]
  },
  {
   "cell_type": "code",
   "execution_count": 264,
   "id": "baa35982-d5ad-410e-abb7-3d1065dcc7e8",
   "metadata": {},
   "outputs": [],
   "source": [
    "dataset = pd.read_csv(\"body_fat_data.csv\", index_col=0)"
   ]
  },
  {
   "cell_type": "code",
   "execution_count": 265,
   "id": "b611ebdf-b82b-4c2b-8214-5bb919c8ac8e",
   "metadata": {},
   "outputs": [],
   "source": [
    "features = ['Neck circumference (cm)','Chest circumference (cm)','Abdomen circumference (cm)', 'Hip circumference (cm)',\n",
    "        'Thigh circumference (cm)', 'Knee circumference (cm)', 'Ankle circumference (cm)',\n",
    "        'Extended biceps circumference (cm)', 'Forearm circumference (cm)', \n",
    "            'Wrist circumference (cm)','Age', 'Weight (lbs)','Fat Free Weight (1 - fraction of body fat) * Weight, using Brozek formula (lbs)',\n",
    "            'Height (inches)',\n",
    "           'Adiposity index = Weight/Height^2 (kg/m^2)']\n",
    "features_short = ['Neck','Chest','Abdomen', 'Hip',\n",
    "        'Thigh', 'Knee', 'Ankle ',\n",
    "        'Extended biceps', 'Forearm', \n",
    "            'Wrist', 'Age', 'Weight (lbs)',\n",
    "            'Height (inches)', 'Fat free Weight',\n",
    "                 'Adiposity index']\n",
    "target = 'Percent body fat using Siri equation 495/Density'"
   ]
  },
  {
   "cell_type": "code",
   "execution_count": 266,
   "id": "0e7c3429-d329-433b-810b-ac1a04322104",
   "metadata": {},
   "outputs": [
    {
     "data": {
      "text/html": [
       "<div>\n",
       "<style scoped>\n",
       "    .dataframe tbody tr th:only-of-type {\n",
       "        vertical-align: middle;\n",
       "    }\n",
       "\n",
       "    .dataframe tbody tr th {\n",
       "        vertical-align: top;\n",
       "    }\n",
       "\n",
       "    .dataframe thead th {\n",
       "        text-align: right;\n",
       "    }\n",
       "</style>\n",
       "<table border=\"1\" class=\"dataframe\">\n",
       "  <thead>\n",
       "    <tr style=\"text-align: right;\">\n",
       "      <th></th>\n",
       "      <th>Percent body fat using Siri equation 495/Density</th>\n",
       "      <th>Density gm/cm^3</th>\n",
       "      <th>Age</th>\n",
       "      <th>Weight (lbs)</th>\n",
       "      <th>Height (inches)</th>\n",
       "      <th>Adiposity index = Weight/Height^2 (kg/m^2)</th>\n",
       "      <th>Fat Free Weight (1 - fraction of body fat) * Weight, using Brozek formula (lbs)</th>\n",
       "      <th>Neck circumference (cm)</th>\n",
       "      <th>Chest circumference (cm)</th>\n",
       "      <th>Abdomen circumference (cm)</th>\n",
       "      <th>Hip circumference (cm)</th>\n",
       "      <th>Thigh circumference (cm)</th>\n",
       "      <th>Knee circumference (cm)</th>\n",
       "      <th>Ankle circumference (cm)</th>\n",
       "      <th>Extended biceps circumference (cm)</th>\n",
       "      <th>Forearm circumference (cm)</th>\n",
       "      <th>Wrist circumference (cm)</th>\n",
       "    </tr>\n",
       "  </thead>\n",
       "  <tbody>\n",
       "    <tr>\n",
       "      <th>count</th>\n",
       "      <td>252.000000</td>\n",
       "      <td>252.000000</td>\n",
       "      <td>252.000000</td>\n",
       "      <td>252.000000</td>\n",
       "      <td>252.000000</td>\n",
       "      <td>252.000000</td>\n",
       "      <td>252.000000</td>\n",
       "      <td>252.000000</td>\n",
       "      <td>252.000000</td>\n",
       "      <td>252.000000</td>\n",
       "      <td>252.000000</td>\n",
       "      <td>252.000000</td>\n",
       "      <td>252.000000</td>\n",
       "      <td>252.000000</td>\n",
       "      <td>252.000000</td>\n",
       "      <td>252.000000</td>\n",
       "      <td>252.000000</td>\n",
       "    </tr>\n",
       "    <tr>\n",
       "      <th>mean</th>\n",
       "      <td>19.150794</td>\n",
       "      <td>1.055574</td>\n",
       "      <td>44.884921</td>\n",
       "      <td>178.924405</td>\n",
       "      <td>70.148810</td>\n",
       "      <td>25.436905</td>\n",
       "      <td>143.713889</td>\n",
       "      <td>37.992063</td>\n",
       "      <td>100.824206</td>\n",
       "      <td>92.555952</td>\n",
       "      <td>99.904762</td>\n",
       "      <td>59.405952</td>\n",
       "      <td>38.590476</td>\n",
       "      <td>23.102381</td>\n",
       "      <td>32.273413</td>\n",
       "      <td>28.663889</td>\n",
       "      <td>18.229762</td>\n",
       "    </tr>\n",
       "    <tr>\n",
       "      <th>std</th>\n",
       "      <td>8.368740</td>\n",
       "      <td>0.019031</td>\n",
       "      <td>12.602040</td>\n",
       "      <td>29.389160</td>\n",
       "      <td>3.662856</td>\n",
       "      <td>3.648111</td>\n",
       "      <td>18.231642</td>\n",
       "      <td>2.430913</td>\n",
       "      <td>8.430476</td>\n",
       "      <td>10.783077</td>\n",
       "      <td>7.164058</td>\n",
       "      <td>5.249952</td>\n",
       "      <td>2.411805</td>\n",
       "      <td>1.694893</td>\n",
       "      <td>3.021274</td>\n",
       "      <td>2.020691</td>\n",
       "      <td>0.933585</td>\n",
       "    </tr>\n",
       "    <tr>\n",
       "      <th>min</th>\n",
       "      <td>0.000000</td>\n",
       "      <td>0.995000</td>\n",
       "      <td>22.000000</td>\n",
       "      <td>118.500000</td>\n",
       "      <td>29.500000</td>\n",
       "      <td>18.100000</td>\n",
       "      <td>105.900000</td>\n",
       "      <td>31.100000</td>\n",
       "      <td>79.300000</td>\n",
       "      <td>69.400000</td>\n",
       "      <td>85.000000</td>\n",
       "      <td>47.200000</td>\n",
       "      <td>33.000000</td>\n",
       "      <td>19.100000</td>\n",
       "      <td>24.800000</td>\n",
       "      <td>21.000000</td>\n",
       "      <td>15.800000</td>\n",
       "    </tr>\n",
       "    <tr>\n",
       "      <th>25%</th>\n",
       "      <td>12.475000</td>\n",
       "      <td>1.041400</td>\n",
       "      <td>35.750000</td>\n",
       "      <td>159.000000</td>\n",
       "      <td>68.250000</td>\n",
       "      <td>23.100000</td>\n",
       "      <td>131.350000</td>\n",
       "      <td>36.400000</td>\n",
       "      <td>94.350000</td>\n",
       "      <td>84.575000</td>\n",
       "      <td>95.500000</td>\n",
       "      <td>56.000000</td>\n",
       "      <td>36.975000</td>\n",
       "      <td>22.000000</td>\n",
       "      <td>30.200000</td>\n",
       "      <td>27.300000</td>\n",
       "      <td>17.600000</td>\n",
       "    </tr>\n",
       "    <tr>\n",
       "      <th>50%</th>\n",
       "      <td>19.200000</td>\n",
       "      <td>1.054900</td>\n",
       "      <td>43.000000</td>\n",
       "      <td>176.500000</td>\n",
       "      <td>70.000000</td>\n",
       "      <td>25.050000</td>\n",
       "      <td>141.550000</td>\n",
       "      <td>38.000000</td>\n",
       "      <td>99.650000</td>\n",
       "      <td>90.950000</td>\n",
       "      <td>99.300000</td>\n",
       "      <td>59.000000</td>\n",
       "      <td>38.500000</td>\n",
       "      <td>22.800000</td>\n",
       "      <td>32.050000</td>\n",
       "      <td>28.700000</td>\n",
       "      <td>18.300000</td>\n",
       "    </tr>\n",
       "    <tr>\n",
       "      <th>75%</th>\n",
       "      <td>25.300000</td>\n",
       "      <td>1.070400</td>\n",
       "      <td>54.000000</td>\n",
       "      <td>197.000000</td>\n",
       "      <td>72.250000</td>\n",
       "      <td>27.325000</td>\n",
       "      <td>153.875000</td>\n",
       "      <td>39.425000</td>\n",
       "      <td>105.375000</td>\n",
       "      <td>99.325000</td>\n",
       "      <td>103.525000</td>\n",
       "      <td>62.350000</td>\n",
       "      <td>39.925000</td>\n",
       "      <td>24.000000</td>\n",
       "      <td>34.325000</td>\n",
       "      <td>30.000000</td>\n",
       "      <td>18.800000</td>\n",
       "    </tr>\n",
       "    <tr>\n",
       "      <th>max</th>\n",
       "      <td>47.500000</td>\n",
       "      <td>1.108900</td>\n",
       "      <td>81.000000</td>\n",
       "      <td>363.150000</td>\n",
       "      <td>77.750000</td>\n",
       "      <td>48.900000</td>\n",
       "      <td>240.500000</td>\n",
       "      <td>51.200000</td>\n",
       "      <td>136.200000</td>\n",
       "      <td>148.100000</td>\n",
       "      <td>147.700000</td>\n",
       "      <td>87.300000</td>\n",
       "      <td>49.100000</td>\n",
       "      <td>33.900000</td>\n",
       "      <td>45.000000</td>\n",
       "      <td>34.900000</td>\n",
       "      <td>21.400000</td>\n",
       "    </tr>\n",
       "  </tbody>\n",
       "</table>\n",
       "</div>"
      ],
      "text/plain": [
       "       Percent body fat using Siri equation 495/Density  Density gm/cm^3  \\\n",
       "count                                        252.000000       252.000000   \n",
       "mean                                          19.150794         1.055574   \n",
       "std                                            8.368740         0.019031   \n",
       "min                                            0.000000         0.995000   \n",
       "25%                                           12.475000         1.041400   \n",
       "50%                                           19.200000         1.054900   \n",
       "75%                                           25.300000         1.070400   \n",
       "max                                           47.500000         1.108900   \n",
       "\n",
       "              Age  Weight (lbs)  Height (inches)  \\\n",
       "count  252.000000    252.000000       252.000000   \n",
       "mean    44.884921    178.924405        70.148810   \n",
       "std     12.602040     29.389160         3.662856   \n",
       "min     22.000000    118.500000        29.500000   \n",
       "25%     35.750000    159.000000        68.250000   \n",
       "50%     43.000000    176.500000        70.000000   \n",
       "75%     54.000000    197.000000        72.250000   \n",
       "max     81.000000    363.150000        77.750000   \n",
       "\n",
       "       Adiposity index = Weight/Height^2 (kg/m^2)  \\\n",
       "count                                  252.000000   \n",
       "mean                                    25.436905   \n",
       "std                                      3.648111   \n",
       "min                                     18.100000   \n",
       "25%                                     23.100000   \n",
       "50%                                     25.050000   \n",
       "75%                                     27.325000   \n",
       "max                                     48.900000   \n",
       "\n",
       "       Fat Free Weight (1 - fraction of body fat) * Weight, using Brozek formula (lbs)  \\\n",
       "count                                         252.000000                                 \n",
       "mean                                          143.713889                                 \n",
       "std                                            18.231642                                 \n",
       "min                                           105.900000                                 \n",
       "25%                                           131.350000                                 \n",
       "50%                                           141.550000                                 \n",
       "75%                                           153.875000                                 \n",
       "max                                           240.500000                                 \n",
       "\n",
       "       Neck circumference (cm)  Chest circumference (cm)  \\\n",
       "count               252.000000                252.000000   \n",
       "mean                 37.992063                100.824206   \n",
       "std                   2.430913                  8.430476   \n",
       "min                  31.100000                 79.300000   \n",
       "25%                  36.400000                 94.350000   \n",
       "50%                  38.000000                 99.650000   \n",
       "75%                  39.425000                105.375000   \n",
       "max                  51.200000                136.200000   \n",
       "\n",
       "       Abdomen circumference (cm)  Hip circumference (cm)  \\\n",
       "count                  252.000000              252.000000   \n",
       "mean                    92.555952               99.904762   \n",
       "std                     10.783077                7.164058   \n",
       "min                     69.400000               85.000000   \n",
       "25%                     84.575000               95.500000   \n",
       "50%                     90.950000               99.300000   \n",
       "75%                     99.325000              103.525000   \n",
       "max                    148.100000              147.700000   \n",
       "\n",
       "       Thigh circumference (cm)  Knee circumference (cm)  \\\n",
       "count                252.000000               252.000000   \n",
       "mean                  59.405952                38.590476   \n",
       "std                    5.249952                 2.411805   \n",
       "min                   47.200000                33.000000   \n",
       "25%                   56.000000                36.975000   \n",
       "50%                   59.000000                38.500000   \n",
       "75%                   62.350000                39.925000   \n",
       "max                   87.300000                49.100000   \n",
       "\n",
       "       Ankle circumference (cm)  Extended biceps circumference (cm)  \\\n",
       "count                252.000000                          252.000000   \n",
       "mean                  23.102381                           32.273413   \n",
       "std                    1.694893                            3.021274   \n",
       "min                   19.100000                           24.800000   \n",
       "25%                   22.000000                           30.200000   \n",
       "50%                   22.800000                           32.050000   \n",
       "75%                   24.000000                           34.325000   \n",
       "max                   33.900000                           45.000000   \n",
       "\n",
       "       Forearm circumference (cm)  Wrist circumference (cm)  \n",
       "count                  252.000000                252.000000  \n",
       "mean                    28.663889                 18.229762  \n",
       "std                      2.020691                  0.933585  \n",
       "min                     21.000000                 15.800000  \n",
       "25%                     27.300000                 17.600000  \n",
       "50%                     28.700000                 18.300000  \n",
       "75%                     30.000000                 18.800000  \n",
       "max                     34.900000                 21.400000  "
      ]
     },
     "execution_count": 266,
     "metadata": {},
     "output_type": "execute_result"
    }
   ],
   "source": [
    "dataset.describe()"
   ]
  },
  {
   "cell_type": "markdown",
   "id": "6d6cf789-4ce7-4f46-9d35-0d83669573b8",
   "metadata": {
    "tags": []
   },
   "source": [
    "# Train and test split"
   ]
  },
  {
   "cell_type": "code",
   "execution_count": 251,
   "id": "b5cccc5d-9245-49bf-aa5e-26b6da78cea5",
   "metadata": {},
   "outputs": [],
   "source": [
    "train, test = train_test_split(dataset, test_size=0.33, random_state=1)\n",
    "\n",
    "train_x = train[features].copy()\n",
    "train_y = train[[target]].copy()\n",
    "\n",
    "test_x = test[features].copy()\n",
    "test_y = test[[target]].copy()"
   ]
  },
  {
   "cell_type": "markdown",
   "id": "018001ff-519b-434a-9cf5-15da86636f95",
   "metadata": {},
   "source": [
    "### Function to fit the model, using the ridge solution, with standardization"
   ]
  },
  {
   "cell_type": "code",
   "execution_count": 252,
   "id": "9d9bbab1-1436-4f98-bd66-202d388e1e78",
   "metadata": {},
   "outputs": [],
   "source": [
    "def ridge_fit(train, features, target, alpha):\n",
    "    X = train[features].copy()\n",
    "    y = train[[target]].copy()\n",
    "    \n",
    "    x_mean = X.mean()\n",
    "    x_std = X.std()\n",
    "    \n",
    "    X = (X - x_mean) / x_std\n",
    "    X[\"intercept\"] = 1\n",
    "    X = X[[\"intercept\"] + features]\n",
    "    \n",
    "    penalty = alpha * np.identity(X.shape[1])\n",
    "    penalty[0][0] = 0\n",
    "    \n",
    "    indices = [\"intercept\"] + features\n",
    "    ridge = np.linalg.inv(X.T @ X + penalty) @ X.T @ y\n",
    "    ridge.index = indices\n",
    "    return ridge, x_mean, x_std"
   ]
  },
  {
   "cell_type": "markdown",
   "id": "c30ac498-6f08-4e67-9f7d-5e33af6be33e",
   "metadata": {},
   "source": [
    "### Predicting using the model computed above. Using the mean and std of the training data to standardize the test data"
   ]
  },
  {
   "cell_type": "code",
   "execution_count": 253,
   "id": "5ac2691e-9801-44e8-9e09-53e6938321f2",
   "metadata": {},
   "outputs": [],
   "source": [
    "def ridge_predict(test, predictors, x_mean, x_std, ridge):\n",
    "    test_X = test[predictors]\n",
    "    test_X = (test_X - x_mean) / x_std\n",
    "    test_X[\"intercept\"] = 1\n",
    "    test_X = test_X[[\"intercept\"] + predictors]\n",
    "\n",
    "    predictions = test_X @ ridge\n",
    "    return predictions"
   ]
  },
  {
   "cell_type": "markdown",
   "id": "b5f81ba5-379e-4a04-bf04-ae35a2555ae0",
   "metadata": {},
   "source": [
    "### K-fold validation, implemented using the general procedure described in https://machinelearningmastery.com/k-fold-cross-validation/"
   ]
  },
  {
   "cell_type": "code",
   "execution_count": 254,
   "id": "2590923d-59d2-4b89-94fc-b784330107d0",
   "metadata": {},
   "outputs": [],
   "source": [
    "def k_fold_val(data, lambdas, partitions, repeats, features, target):\n",
    "    cv = data[:int(data.shape[1] / partitions * 100 / data.shape[1])]\n",
    "    train = data[int(data.shape[1] / partitions * 100 / data.shape[1]):]\n",
    "    loss = {}\n",
    "    for l in lmbdas:\n",
    "        \n",
    "        for n in range(repeats):\n",
    "            partition_loss = []\n",
    "            \n",
    "            for split in range(1,partitions + 1):\n",
    "                partition = train[(partitions * split) - partitions: partitions * split]\n",
    "                \n",
    "                ridge, x_mean, x_std = ridge_fit(partition, features, target, l)\n",
    "                pred = ridge_predict(cv, features, x_mean, x_std, ridge)\n",
    "                \n",
    "                partition_loss.append(mean_absolute_error(cv[target], pred.values))\n",
    "            \n",
    "            loss[l] = np.mean(partition_loss)\n",
    "\n",
    "            \n",
    "    return min(loss, key = loss.get), loss"
   ]
  },
  {
   "cell_type": "markdown",
   "id": "ef675926-44b6-4e70-b772-9bb13ff5b23f",
   "metadata": {},
   "source": [
    "### Finding optimal lambda, and ploting the $\\lambda$ loss. Because we're just plotting the loss without specifying the x, matplotlib is taking the length of the list to create the x. It sometimes displays the line with a small offset, which makes it look like it's not finding the optimal $\\lambda$ "
   ]
  },
  {
   "cell_type": "code",
   "execution_count": 269,
   "id": "e8a37bc0-d54d-492d-8eef-8e9f19b378c8",
   "metadata": {},
   "outputs": [
    {
     "data": {
      "image/png": "[encoded data removed]",
      "text/plain": [
       "<Figure size 640x480 with 1 Axes>"
      ]
     },
     "metadata": {},
     "output_type": "display_data"
    }
   ],
   "source": [
    "lmbdas = [i/2 for i in range(1,51)]\n",
    "lmbda, loss = k_fold_val(train, lmbdas, 10, 1, features, target)\n",
    "plt.plot(loss.values())\n",
    "plt.xlabel(\"lambda\")\n",
    "plt.ylabel(\"mean squared error prediction loss\")\n",
    "plt.title(\"Lambda cross-validation\")\n",
    "plt.show()"
   ]
  },
  {
   "cell_type": "markdown",
   "id": "86de24e3-b0eb-4d51-98df-c9e5319a1db2",
   "metadata": {},
   "source": [
    "### Calling ridge fit and predict"
   ]
  },
  {
   "cell_type": "code",
   "execution_count": 256,
   "id": "606a2074-e47e-41a2-a17e-97ccd82d8153",
   "metadata": {},
   "outputs": [],
   "source": [
    "ridge, x_mean, x_std = ridge_fit(train, features, target, 0.5)\n",
    "pred = ridge_predict(test, features, x_mean, x_std, ridge)"
   ]
  },
  {
   "cell_type": "markdown",
   "id": "4579d15d-5096-4c85-bb11-08da60f8a4c6",
   "metadata": {},
   "source": [
    "### Ridge coefficients"
   ]
  },
  {
   "cell_type": "code",
   "execution_count": 257,
   "id": "8847b8ae-3cc3-4a29-bb1f-66b21b6e469e",
   "metadata": {},
   "outputs": [
    {
     "data": {
      "text/html": [
       "<div>\n",
       "<style scoped>\n",
       "    .dataframe tbody tr th:only-of-type {\n",
       "        vertical-align: middle;\n",
       "    }\n",
       "\n",
       "    .dataframe tbody tr th {\n",
       "        vertical-align: top;\n",
       "    }\n",
       "\n",
       "    .dataframe thead th {\n",
       "        text-align: right;\n",
       "    }\n",
       "</style>\n",
       "<table border=\"1\" class=\"dataframe\">\n",
       "  <thead>\n",
       "    <tr style=\"text-align: right;\">\n",
       "      <th></th>\n",
       "      <th>Percent body fat using Siri equation 495/Density</th>\n",
       "    </tr>\n",
       "  </thead>\n",
       "  <tbody>\n",
       "    <tr>\n",
       "      <th>intercept</th>\n",
       "      <td>18.994048</td>\n",
       "    </tr>\n",
       "    <tr>\n",
       "      <th>Neck circumference (cm)</th>\n",
       "      <td>0.126276</td>\n",
       "    </tr>\n",
       "    <tr>\n",
       "      <th>Chest circumference (cm)</th>\n",
       "      <td>0.765821</td>\n",
       "    </tr>\n",
       "    <tr>\n",
       "      <th>Abdomen circumference (cm)</th>\n",
       "      <td>1.443411</td>\n",
       "    </tr>\n",
       "    <tr>\n",
       "      <th>Hip circumference (cm)</th>\n",
       "      <td>0.832989</td>\n",
       "    </tr>\n",
       "    <tr>\n",
       "      <th>Thigh circumference (cm)</th>\n",
       "      <td>0.655719</td>\n",
       "    </tr>\n",
       "    <tr>\n",
       "      <th>Knee circumference (cm)</th>\n",
       "      <td>0.063546</td>\n",
       "    </tr>\n",
       "    <tr>\n",
       "      <th>Ankle circumference (cm)</th>\n",
       "      <td>0.104089</td>\n",
       "    </tr>\n",
       "    <tr>\n",
       "      <th>Extended biceps circumference (cm)</th>\n",
       "      <td>0.136410</td>\n",
       "    </tr>\n",
       "    <tr>\n",
       "      <th>Forearm circumference (cm)</th>\n",
       "      <td>0.332313</td>\n",
       "    </tr>\n",
       "    <tr>\n",
       "      <th>Wrist circumference (cm)</th>\n",
       "      <td>0.138638</td>\n",
       "    </tr>\n",
       "    <tr>\n",
       "      <th>Age</th>\n",
       "      <td>-0.057384</td>\n",
       "    </tr>\n",
       "    <tr>\n",
       "      <th>Weight (lbs)</th>\n",
       "      <td>8.073073</td>\n",
       "    </tr>\n",
       "    <tr>\n",
       "      <th>Fat Free Weight (1 - fraction of body fat) * Weight, using Brozek formula (lbs)</th>\n",
       "      <td>-9.050977</td>\n",
       "    </tr>\n",
       "    <tr>\n",
       "      <th>Height (inches)</th>\n",
       "      <td>0.300074</td>\n",
       "    </tr>\n",
       "    <tr>\n",
       "      <th>Adiposity index = Weight/Height^2 (kg/m^2)</th>\n",
       "      <td>-0.706993</td>\n",
       "    </tr>\n",
       "  </tbody>\n",
       "</table>\n",
       "</div>"
      ],
      "text/plain": [
       "                                                    Percent body fat using Siri equation 495/Density\n",
       "intercept                                                                                  18.994048\n",
       "Neck circumference (cm)                                                                     0.126276\n",
       "Chest circumference (cm)                                                                    0.765821\n",
       "Abdomen circumference (cm)                                                                  1.443411\n",
       "Hip circumference (cm)                                                                      0.832989\n",
       "Thigh circumference (cm)                                                                    0.655719\n",
       "Knee circumference (cm)                                                                     0.063546\n",
       "Ankle circumference (cm)                                                                    0.104089\n",
       "Extended biceps circumference (cm)                                                          0.136410\n",
       "Forearm circumference (cm)                                                                  0.332313\n",
       "Wrist circumference (cm)                                                                    0.138638\n",
       "Age                                                                                        -0.057384\n",
       "Weight (lbs)                                                                                8.073073\n",
       "Fat Free Weight (1 - fraction of body fat) * We...                                         -9.050977\n",
       "Height (inches)                                                                             0.300074\n",
       "Adiposity index = Weight/Height^2 (kg/m^2)                                                 -0.706993"
      ]
     },
     "execution_count": 257,
     "metadata": {},
     "output_type": "execute_result"
    }
   ],
   "source": [
    "ridge"
   ]
  },
  {
   "cell_type": "code",
   "execution_count": 258,
   "id": "28d76448-b029-4071-a8de-b7b3d4ef28ed",
   "metadata": {},
   "outputs": [
    {
     "data": {
      "text/plain": [
       "1.299234591611657"
      ]
     },
     "execution_count": 258,
     "metadata": {},
     "output_type": "execute_result"
    }
   ],
   "source": [
    "err = mean_absolute_error(test[target], pred)\n",
    "\n",
    "err"
   ]
  },
  {
   "cell_type": "code",
   "execution_count": 259,
   "id": "e7999af7-8efd-40e2-8bdb-6deeba95e525",
   "metadata": {},
   "outputs": [
    {
     "data": {
      "text/plain": [
       "<AxesSubplot:>"
      ]
     },
     "execution_count": 259,
     "metadata": {},
     "output_type": "execute_result"
    },
    {
     "data": {
      "image/png": "[encoded data removed]",
      "text/plain": [
       "<Figure size 640x480 with 1 Axes>"
      ]
     },
     "metadata": {},
     "output_type": "display_data"
    }
   ],
   "source": [
    "ridge.index= [\"intercept\"] + features_short\n",
    "ridge.plot.bar()"
   ]
  },
  {
   "cell_type": "markdown",
   "id": "81ffb1be-7643-4736-9d06-7a50b6f15178",
   "metadata": {},
   "source": [
    "### Intercept of the slope, which represents mean value of y when all the features are 0 "
   ]
  },
  {
   "cell_type": "code",
   "execution_count": 260,
   "id": "099477a8-37f1-4db9-b83c-c25300595362",
   "metadata": {},
   "outputs": [
    {
     "data": {
      "text/plain": [
       "18.99404761904759"
      ]
     },
     "execution_count": 260,
     "metadata": {},
     "output_type": "execute_result"
    }
   ],
   "source": [
    "ridge.T['intercept'][0]"
   ]
  },
  {
   "cell_type": "markdown",
   "id": "47950913-49b3-43c7-9cfb-2329431e8fb1",
   "metadata": {},
   "source": [
    "### Show first five errors"
   ]
  },
  {
   "cell_type": "code",
   "execution_count": 261,
   "id": "7baaae6e-0e2b-41db-8d56-221e6f1f79a8",
   "metadata": {},
   "outputs": [
    {
     "data": {
      "text/plain": [
       "0"
      ]
     },
     "execution_count": 261,
     "metadata": {},
     "output_type": "execute_result"
    }
   ],
   "source": [
    "dif = 10\n",
    "cnt=0\n",
    "for i,val in enumerate(pred.values):\n",
    "    if (test_y.iloc[i].values[0] - val > dif):\n",
    "        cnt+=1\n",
    "        print(\"Expected: \" + str(test_y.iloc[i].values[0]) + \" Actual: \" + str(val[0]) + \"  sample index: \" + str(i))\n",
    "        \n",
    "cnt"
   ]
  },
  {
   "cell_type": "markdown",
   "id": "d9e28a42-e26e-4241-84bf-d550a7b35a46",
   "metadata": {},
   "source": [
    "### Model evaluation. This implementation has a better slope than the sklearn because it also uses fat free weight"
   ]
  },
  {
   "cell_type": "code",
   "execution_count": 262,
   "id": "128013a2-720b-46da-a624-16a0c962298a",
   "metadata": {},
   "outputs": [
    {
     "data": {
      "image/png": "[encoded data removed]",
      "text/plain": [
       "<Figure size 640x480 with 1 Axes>"
      ]
     },
     "metadata": {},
     "output_type": "display_data"
    }
   ],
   "source": [
    "f, ax = plt.subplots(1)\n",
    "\n",
    "ax.axline((1, 1), slope=1, c = 'red', label='slope where loss = 0')\n",
    "plt.legend()\n",
    "plt.scatter(test_y, pred)\n",
    "plt.show()"
   ]
  }
 ],
 "metadata": {
  "kernelspec": {
   "display_name": "Python 3",
   "language": "python",
   "name": "python3"
  },
  "language_info": {
   "codemirror_mode": {
    "name": "ipython",
    "version": 3
   },
   "file_extension": ".py",
   "mimetype": "text/x-python",
   "name": "python",
   "nbconvert_exporter": "python",
   "pygments_lexer": "ipython3",
   "version": "3.10.4"
  }
 },
 "nbformat": 4,
 "nbformat_minor": 5
}
